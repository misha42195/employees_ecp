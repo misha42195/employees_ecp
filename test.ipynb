{
 "cells": [
  {
   "metadata": {
    "ExecuteTime": {
     "end_time": "2024-12-11T12:50:34.644285Z",
     "start_time": "2024-12-11T12:50:34.639384Z"
    }
   },
   "cell_type": "code",
   "source": [
    "import flet as ft\n",
    "import pickle\n",
    "from flet_route import Params, Basket\n",
    "from utils.persons import Employee\n",
    "from utils.style import *\n",
    "from datetime import date\n",
    "\n",
    "\n",
    "# Загрузка сотрудников из файла с использованием pickle\n",
    "def load_persons_from_file():\n",
    "    try:\n",
    "        with open(\"persons.pkl\", \"rb\") as f:\n",
    "            return pickle.load(f)\n",
    "    except FileNotFoundError:\n",
    "        return {}  # Если файл не найден, возвращаем пустой словарь\n",
    "\n",
    "\n",
    "# Сохранение сотрудников в файл с использованием pickle\n",
    "def save_person_to_file():\n",
    "    with open(\"persons.pkl\", \"wb\") as f:\n",
    "        pickle.dump(persons, f)\n"
   ],
   "id": "dd960b7e17b3aa6b",
   "outputs": [],
   "execution_count": 138
  },
  {
   "metadata": {
    "ExecuteTime": {
     "end_time": "2024-12-11T12:50:43.791536Z",
     "start_time": "2024-12-11T12:50:43.788043Z"
    }
   },
   "cell_type": "code",
   "source": "load_persons_from_file()",
   "id": "b78223722b80d49",
   "outputs": [
    {
     "data": {
      "text/plain": [
       "{}"
      ]
     },
     "execution_count": 155,
     "metadata": {},
     "output_type": "execute_result"
    }
   ],
   "execution_count": 155
  },
  {
   "metadata": {
    "ExecuteTime": {
     "end_time": "2024-12-11T12:29:36.832288Z",
     "start_time": "2024-12-11T12:29:36.828279Z"
    }
   },
   "cell_type": "code",
   "source": [
    "class A:\n",
    "    def __init__(self,a,b):\n",
    "        self.a = a\n",
    "        self.b = b\n",
    "\n",
    "\n",
    "class B:\n",
    "    def __init__(self,a,b):\n",
    "        self.a = a\n",
    "        self.b = b\n",
    "\n",
    "aa = A(1,2)\n",
    "bb = B(3,4)\n",
    "\n",
    "\n",
    "persons:dict = {}\n",
    "\n",
    "persons[aa.a] = aa.a\n",
    "persons[bb.b] = bb.b\n",
    "\n",
    "save_person_to_file()\n",
    "\n"
   ],
   "id": "ffaa39979890152d",
   "outputs": [],
   "execution_count": 85
  },
  {
   "metadata": {
    "ExecuteTime": {
     "end_time": "2024-12-11T12:31:26.549176Z",
     "start_time": "2024-12-11T12:31:26.546090Z"
    }
   },
   "cell_type": "code",
   "source": "load_persons_from_file()",
   "id": "3566f10c1ab3b27b",
   "outputs": [
    {
     "data": {
      "text/plain": [
       "{1: 1, 4: 4, 'misha': <utils.persons.Employee at 0x7ff1d4a6e7d0>}"
      ]
     },
     "execution_count": 104,
     "metadata": {},
     "output_type": "execute_result"
    }
   ],
   "execution_count": 104
  },
  {
   "metadata": {
    "ExecuteTime": {
     "end_time": "2024-12-11T12:29:41.400172Z",
     "start_time": "2024-12-11T12:29:41.397638Z"
    }
   },
   "cell_type": "code",
   "source": "save_person_to_file()",
   "id": "6f17bd136900b162",
   "outputs": [],
   "execution_count": 87
  },
  {
   "metadata": {
    "ExecuteTime": {
     "end_time": "2024-12-11T12:29:43.516200Z",
     "start_time": "2024-12-11T12:29:43.512864Z"
    }
   },
   "cell_type": "code",
   "source": [
    "empl1 =  Employee(\"misha\",\"programmer\",\"124\")\n",
    "persons[empl1.full_name] = empl1"
   ],
   "id": "974fe2a283590050",
   "outputs": [],
   "execution_count": 88
  },
  {
   "metadata": {
    "ExecuteTime": {
     "end_time": "2024-12-11T12:30:57.556815Z",
     "start_time": "2024-12-11T12:30:57.554015Z"
    }
   },
   "cell_type": "code",
   "source": "save_person_to_file()",
   "id": "c81cd4fb6cafee7",
   "outputs": [],
   "execution_count": 90
  },
  {
   "metadata": {
    "ExecuteTime": {
     "end_time": "2024-12-11T12:31:05.473692Z",
     "start_time": "2024-12-11T12:31:05.470278Z"
    }
   },
   "cell_type": "code",
   "source": "load_persons_from_file()",
   "id": "fbd2c3500b74732a",
   "outputs": [
    {
     "data": {
      "text/plain": [
       "{1: 1, 4: 4, 'misha': <utils.persons.Employee at 0x7ff1d4a73e90>}"
      ]
     },
     "execution_count": 101,
     "metadata": {},
     "output_type": "execute_result"
    }
   ],
   "execution_count": 101
  },
  {
   "cell_type": "code",
   "id": "initial_id",
   "metadata": {
    "collapsed": true,
    "ExecuteTime": {
     "end_time": "2024-12-11T11:13:55.188021Z",
     "start_time": "2024-12-11T11:13:55.183604Z"
    }
   },
   "source": [
    "from utils.persons import ECP, Employee, KriptoPro\n",
    "\n",
    "ecp = ECP(\n",
    "    \"токен\",\n",
    "    \"работает\",\n",
    "    \"4.12\",\n",
    "    \"сейф\",\n",
    "    '20241020',\n",
    "    '20250614',\n",
    "    'да',\n",
    "    'да',\n",
    "    'да',\n",
    "    'да',\n",
    "    'да',\n",
    "    'да',\n",
    ")\n",
    "ecp\n"
   ],
   "outputs": [
    {
     "data": {
      "text/plain": [
       "<utils.persons.ECP at 0x7ff1d7cb2150>"
      ]
     },
     "execution_count": 2,
     "metadata": {},
     "output_type": "execute_result"
    }
   ],
   "execution_count": 2
  },
  {
   "metadata": {
    "ExecuteTime": {
     "end_time": "2024-12-11T11:13:58.722410Z",
     "start_time": "2024-12-11T11:13:58.577062Z"
    }
   },
   "cell_type": "code",
   "source": [
    "kpr = KriptoPro(\n",
    "    \"4.12\",\n",
    "    \"сейф\",\n",
    "\n",
    ")"
   ],
   "id": "b378e4f9bfa6f7f",
   "outputs": [
    {
     "ename": "TypeError",
     "evalue": "KriptoPro.__init__() missing 2 required positional arguments: 'start_date' and 'finish_date'",
     "output_type": "error",
     "traceback": [
      "\u001B[0;31m---------------------------------------------------------------------------\u001B[0m",
      "\u001B[0;31mTypeError\u001B[0m                                 Traceback (most recent call last)",
      "Cell \u001B[0;32mIn[3], line 1\u001B[0m\n\u001B[0;32m----> 1\u001B[0m kpr \u001B[38;5;241m=\u001B[39m \u001B[43mKriptoPro\u001B[49m\u001B[43m(\u001B[49m\n\u001B[1;32m      2\u001B[0m \u001B[43m    \u001B[49m\u001B[38;5;124;43m\"\u001B[39;49m\u001B[38;5;124;43m4.12\u001B[39;49m\u001B[38;5;124;43m\"\u001B[39;49m\u001B[43m,\u001B[49m\n\u001B[1;32m      3\u001B[0m \u001B[43m    \u001B[49m\u001B[38;5;124;43m\"\u001B[39;49m\u001B[38;5;124;43mсейф\u001B[39;49m\u001B[38;5;124;43m\"\u001B[39;49m\u001B[43m,\u001B[49m\n\u001B[1;32m      4\u001B[0m \n\u001B[1;32m      5\u001B[0m \u001B[43m)\u001B[49m\n",
      "\u001B[0;31mTypeError\u001B[0m: KriptoPro.__init__() missing 2 required positional arguments: 'start_date' and 'finish_date'"
     ]
    }
   ],
   "execution_count": 3
  },
  {
   "metadata": {
    "ExecuteTime": {
     "end_time": "2024-12-11T11:51:28.014219Z",
     "start_time": "2024-12-11T11:51:27.994664Z"
    }
   },
   "cell_type": "code",
   "source": [
    "\n",
    "import flet as ft\n",
    "from flet_route import Params, Basket\n",
    "from utils.persons import Employee\n",
    "from utils.style import *\n",
    "from utils.save_in_pkl import save_person_to_file, load_persons_from_file\n",
    "\n",
    "# Загружаем сотрудников из файла\n",
    "persons = load_persons_from_file()\n",
    "\n",
    "\n",
    "class AddEmployeesPage:\n",
    "    def __init__(self, page):\n",
    "        self.page: ft.Page = page  # основная страница приложения\n",
    "        self.selected_date = None\n",
    "\n",
    "        # Поля ввода данных сотрудника\n",
    "        self.full_name_input = ft.Container(\n",
    "            content=ft.TextField(\n",
    "                label=\"Введите ФИО сотрудника\",\n",
    "                bgcolor=secondaryBgColor,\n",
    "                border=ft.InputBorder.NONE,\n",
    "                filled=True,\n",
    "                color=secondaryFontColor,\n",
    "            ),\n",
    "            border_radius=15,\n",
    "        )\n",
    "\n",
    "        self.position_input = ft.Container(\n",
    "            content=ft.TextField(\n",
    "                label=\"Введите должность сотрудника\",\n",
    "                bgcolor=secondaryBgColor,\n",
    "                border=ft.InputBorder.NONE,\n",
    "                filled=True,\n",
    "                color=secondaryFontColor,\n",
    "            ),\n",
    "            border_radius=15,\n",
    "        )\n",
    "\n",
    "        self.comp_name_input = ft.Container(\n",
    "            content=ft.TextField(\n",
    "                label=\"Введите имя компьютера\",\n",
    "                bgcolor=secondaryBgColor,\n",
    "                border=ft.InputBorder.NONE,\n",
    "                filled=True,\n",
    "                color=secondaryFontColor,\n",
    "            ),\n",
    "            border_radius=15,\n",
    "        )\n",
    "\n",
    "        # Кнопка сохранения\n",
    "        self.save_button = ft.ElevatedButton(\n",
    "            text=\"Сохранение сотрудника\",\n",
    "            on_click=self.save_employee,  # Передаем метод, не вызывая его\n",
    "            bgcolor=defaultBgColor,\n",
    "            color=defaultFontColor,\n",
    "        )\n",
    "    def display_all_employees(self, e):\n",
    "        \"\"\"Показывает всех сотрудников, сохраненных в словаре.\"\"\"\n",
    "        self.page.controls.append(self.display_employees())\n",
    "        self.page.update()\n",
    "\n",
    "    def display_employees(self):\n",
    "        \"\"\"Отображает список сотрудников.\"\"\"\n",
    "        employee_list = ft.Column()\n",
    "        for full_name, employee in persons.items():\n",
    "            employee_list.controls.append(ft.Text(f\"{full_name} - {employee.position}\"))\n",
    "        return employee_list\n",
    "\n",
    "    def save_employee(self, e):\n",
    "        \"\"\"Сохраняет нового сотрудника в словарь persons и файл pickle.\"\"\"\n",
    "        full_name = self.full_name_input.content.value\n",
    "        position = self.position_input.content.value\n",
    "        com_name = self.comp_name_input.content.value\n",
    "\n",
    "        print(f\"ПОЛНОЕ ИМЯ СОТРУДНИКА: {full_name}, Position: {position}, Computer Name: {com_name}\")  # Для отладки\n",
    "        print(persons)\n",
    "\n",
    "        if full_name and position and com_name:\n",
    "            if full_name in persons:\n",
    "                self.page.snack_bar = ft.SnackBar(\n",
    "                    content=ft.Text(f\"Сотрудник с именем {full_name} уже существует!\"),\n",
    "                    bgcolor=\"orange\",\n",
    "                )\n",
    "            else:\n",
    "                # Создание объекта сотрудника\n",
    "                new_employee = Employee(full_name=full_name, position=position, com_name=com_name)\n",
    "                print(f\"сотрудник {new_employee}\")\n",
    "                persons[full_name] = new_employee  # Добавляем сотрудника в словарь\n",
    "\n",
    "                # Сохранить обновленный список сотрудников в файл\n",
    "                save_person_to_file()  # Сохраняем данные в файл pickle\n",
    "\n",
    "                self.page.snack_bar = ft.SnackBar(\n",
    "                    content=ft.Text(f\"Сотрудник {full_name} успешно добавлен!\"),\n",
    "                    bgcolor=\"green\",\n",
    "                )\n",
    "        else:\n",
    "            self.page.snack_bar = ft.SnackBar(\n",
    "                content=ft.Text(\"Заполните все поля перед сохранением.\"),\n",
    "                bgcolor=\"red\",\n",
    "            )\n",
    "\n",
    "        self.page.snack_bar.open = True  # Отображение SnackBar\n",
    "        self.page.update()\n",
    "\n",
    "    def view(self, page: ft.Page, params: Params, basket: Basket):\n",
    "        \"\"\"Отображение страницы добавления сотрудников.\"\"\"\n",
    "        page.title = \"Добавление сотрудников\"\n",
    "        return ft.View(\n",
    "            \"/add\",\n",
    "            controls=[\n",
    "                ft.Row(\n",
    "                    expand=True,\n",
    "                    controls=[\n",
    "                        ft.Container(\n",
    "                            expand=2,\n",
    "                            padding=ft.padding.all(40),\n",
    "                            content=ft.Column(\n",
    "                                alignment=ft.MainAxisAlignment.START,\n",
    "                                horizontal_alignment=ft.CrossAxisAlignment.START,\n",
    "                                controls=[\n",
    "                                    ft.IconButton(\n",
    "                                        icon=ft.icons.HOME,\n",
    "                                        on_click=lambda e: page.go(\"/\"),\n",
    "                                        bgcolor=secondaryBgColor,\n",
    "                                    ),\n",
    "                                    ft.Text(\n",
    "                                        \"Введите данные сотрудника\",\n",
    "                                        color=defaultFontColor,\n",
    "                                        weight=ft.FontWeight.NORMAL,\n",
    "                                    ),\n",
    "                                    self.full_name_input,\n",
    "                                    self.position_input,\n",
    "                                    self.comp_name_input,\n",
    "                                    self.save_button,  # Добавляем кнопку в интерфейс\n",
    "                                    self.display_employees,\n",
    "                                ],\n",
    "                            ),\n",
    "                        ),\n",
    "                    ],\n",
    "                ),\n",
    "            ],\n",
    "            bgcolor=defaultBgColor,\n",
    "            padding=0,\n",
    "        )\n",
    "\n"
   ],
   "id": "1cd51b71c11e2c95",
   "outputs": [],
   "execution_count": 28
  },
  {
   "metadata": {
    "ExecuteTime": {
     "end_time": "2024-12-11T11:55:32.122687Z",
     "start_time": "2024-12-11T11:55:32.118974Z"
    }
   },
   "cell_type": "code",
   "source": [
    "add = AddEmployeesPage(page=ft.Page)\n",
    "add.full_name_input.content.value"
   ],
   "id": "d46950a0b94d0c3c",
   "outputs": [
    {
     "data": {
      "text/plain": [
       "''"
      ]
     },
     "execution_count": 34,
     "metadata": {},
     "output_type": "execute_result"
    }
   ],
   "execution_count": 34
  },
  {
   "metadata": {
    "ExecuteTime": {
     "end_time": "2024-12-11T12:34:19.881499Z",
     "start_time": "2024-12-11T12:34:19.879204Z"
    }
   },
   "cell_type": "code",
   "source": "del persons",
   "id": "c7146f4e4ad09ca8",
   "outputs": [],
   "execution_count": 105
  },
  {
   "metadata": {},
   "cell_type": "code",
   "outputs": [],
   "execution_count": null,
   "source": "",
   "id": "8d76a330a0f5bdcc"
  }
 ],
 "metadata": {
  "kernelspec": {
   "display_name": "Python 3",
   "language": "python",
   "name": "python3"
  },
  "language_info": {
   "codemirror_mode": {
    "name": "ipython",
    "version": 2
   },
   "file_extension": ".py",
   "mimetype": "text/x-python",
   "name": "python",
   "nbconvert_exporter": "python",
   "pygments_lexer": "ipython2",
   "version": "2.7.6"
  }
 },
 "nbformat": 4,
 "nbformat_minor": 5
}
